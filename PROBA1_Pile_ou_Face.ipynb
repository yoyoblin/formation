{
  "nbformat": 4,
  "nbformat_minor": 0,
  "metadata": {
    "kernelspec": {
      "display_name": "Python 3",
      "language": "python",
      "name": "python3"
    },
    "language_info": {
      "codemirror_mode": {
        "name": "ipython",
        "version": 3
      },
      "file_extension": ".py",
      "mimetype": "text/x-python",
      "name": "python",
      "nbconvert_exporter": "python",
      "pygments_lexer": "ipython3",
      "version": "3.7.1"
    },
    "latex_envs": {
      "LaTeX_envs_menu_present": true,
      "autoclose": false,
      "autocomplete": true,
      "bibliofile": "biblio.bib",
      "cite_by": "apalike",
      "current_citInitial": 1,
      "eqLabelWithNumbers": true,
      "eqNumInitial": 1,
      "hotkeys": {
        "equation": "Ctrl-E",
        "itemize": "Ctrl-I"
      },
      "labels_anchors": false,
      "latex_user_defs": false,
      "report_style_numbering": false,
      "user_envs_cfg": false
    },
    "colab": {
      "name": "PROBA1 : Pile ou Face.ipynb",
      "provenance": [],
      "collapsed_sections": []
    }
  },
  "cells": [
    {
      "cell_type": "markdown",
      "metadata": {
        "id": "gDlz-Coyy2-T"
      },
      "source": [
        "# **PROBA1 : Activités sur le hasard et calcul des fréquences**"
      ]
    },
    {
      "cell_type": "markdown",
      "metadata": {
        "id": "55TXSClUy2-c"
      },
      "source": [
        "___\n",
        "___\n",
        "## **Pile ou Face  :** Vous allez utiliser, modifier et enfin créer des programmes qui vont simuler le lancer d'une ou plusieurs pièces de 1 € ...ou d'autres tirages au sort....\n",
        "___\n",
        "___"
      ]
    },
    {
      "cell_type": "markdown",
      "metadata": {
        "id": "nNL7_Z6PLc23"
      },
      "source": [
        "\n",
        "> **1. Simulation d'un seul lancer d'une pièce :**\n",
        ">> - **Lancez plusieurs fois** le programme et comptez le nombre d'apparition de *pile*"
      ]
    },
    {
      "cell_type": "code",
      "metadata": {
        "colab": {
          "base_uri": "https://localhost:8080/"
        },
        "id": "N2bhuBbmkYPE",
        "outputId": "e75225de-e556-4a97-850a-785ac2cfd489"
      },
      "source": [
        "from random import*\n",
        "\n",
        "piece = [\"pile\", \"face\"]   # Liste\n",
        "resultat = choice(piece)   # tirage au sort dans la liste piece\n",
        "print (resultat)           # affiche la variabe resultat"
      ],
      "execution_count": 1,
      "outputs": [
        {
          "output_type": "stream",
          "name": "stdout",
          "text": [
            "pile\n"
          ]
        }
      ]
    },
    {
      "cell_type": "markdown",
      "metadata": {
        "id": "_ah-fuHqK7r1"
      },
      "source": [
        "___\n",
        ">> - **Créez un programme pour simuler le tirage au sort entre trois couleurs :** vert, rouge, bleu\n",
        ">> - **Utilisez des noms adaptés** à cette situation."
      ]
    },
    {
      "cell_type": "code",
      "metadata": {
        "id": "1uKT5LY-LZ3s"
      },
      "source": [
        "from random import*\n",
        "\n",
        "\n",
        "\n",
        "\n",
        "\n",
        "\n"
      ],
      "execution_count": null,
      "outputs": []
    },
    {
      "cell_type": "markdown",
      "metadata": {
        "id": "apOFu6hPMMv8"
      },
      "source": [
        "___\n",
        "___\n",
        "\n",
        "> **2. Simulation de plusieurs lancers d'une pièce :**\n",
        ">> - **Vous allez utiliser une boucle** qui répète plusieurs fois le lancer d'une pièce de 1€.\n",
        ">> - **Modifiez** le programme pour faire 10 lancers, ou plus..."
      ]
    },
    {
      "cell_type": "code",
      "metadata": {
        "colab": {
          "base_uri": "https://localhost:8080/"
        },
        "id": "a_uPJ8FMBsqH",
        "outputId": "89e1a47e-9833-4130-a8f5-133306b632b7"
      },
      "source": [
        "from random import*\n",
        "\n",
        "piece = [\"pile\", \"face\"]\n",
        "\n",
        "for n in range (5) : # Boucle qui se répète 5 fois\n",
        "  resultat = choice(piece) \n",
        "  print (resultat)"
      ],
      "execution_count": 4,
      "outputs": [
        {
          "output_type": "stream",
          "name": "stdout",
          "text": [
            "face\n",
            "pile\n",
            "pile\n",
            "face\n",
            "face\n"
          ]
        }
      ]
    },
    {
      "cell_type": "markdown",
      "metadata": {
        "id": "fEV1cs-j1Ya_"
      },
      "source": [
        "___\n",
        ">> - **Quelque chose cloche :** on ne voit qu'un seul résultat alors qu'il devrait se répeter 10 fois...\n",
        ">> - **Corrigez** le programme pour afficher les 10 résultats : "
      ]
    },
    {
      "cell_type": "code",
      "metadata": {
        "colab": {
          "base_uri": "https://localhost:8080/"
        },
        "id": "v4hugiZL1msJ",
        "outputId": "cadec850-61ba-40ca-b800-481d33734bd5"
      },
      "source": [
        "from random import*\n",
        "\n",
        "liste = [\"rouge\",\"vert\",\"bleu\"]\n",
        "\n",
        "for n in range (10) : \n",
        "  couleur = choice(liste) \n",
        "print (couleur)"
      ],
      "execution_count": 5,
      "outputs": [
        {
          "output_type": "stream",
          "name": "stdout",
          "text": [
            "rouge\n"
          ]
        }
      ]
    },
    {
      "cell_type": "markdown",
      "metadata": {
        "id": "OMyZBlVN1DJy"
      },
      "source": [
        "___\n",
        "___\n",
        "> **3. Compter automatiquement les résultats : On reprend un des programmes précédents : le \"pile ou face\"**\n",
        ">> - **On compte les *pile* :** avec une condition \"if\" \n",
        ">> - **Modifiez le programme** pour compter les *[face](https://)*"
      ]
    },
    {
      "cell_type": "code",
      "metadata": {
        "colab": {
          "base_uri": "https://localhost:8080/"
        },
        "id": "n_gMpKS93QCW",
        "outputId": "3fa388be-ebb8-4a1e-d21b-2a3630b2ef8e"
      },
      "source": [
        "from random import*\n",
        "piece = [\"pile\", \"face\"]\n",
        "c = 0    # On crée une variable compteur\n",
        "\n",
        "for n in range (10) :\n",
        "  resultat = choice(piece) \n",
        "  print (resultat)\n",
        "  if resultat == \"pile\" :\n",
        "    c = c + 1\n",
        "\n",
        "print (c,\"fois pile\")"
      ],
      "execution_count": 7,
      "outputs": [
        {
          "output_type": "stream",
          "name": "stdout",
          "text": [
            "pile\n",
            "face\n",
            "pile\n",
            "pile\n",
            "pile\n",
            "face\n",
            "pile\n",
            "face\n",
            "face\n",
            "pile\n",
            "6 fois pile\n"
          ]
        }
      ]
    },
    {
      "cell_type": "markdown",
      "metadata": {
        "id": "NlER3N8L54eF"
      },
      "source": [
        "___\n",
        ">> - **Pour aller plus loin :** on crée deux variables c et d pour compter les *pile* et les *face* sur 100 lancers (on n'affiche plus les résultats)\n",
        "\n"
      ]
    },
    {
      "cell_type": "code",
      "metadata": {
        "colab": {
          "base_uri": "https://localhost:8080/"
        },
        "id": "ZiYVsWJt60O9",
        "outputId": "d11848f9-a276-431e-9fa3-f87fb4c96eab"
      },
      "source": [
        "from random import*\n",
        "piece = [\"pile\", \"face\"]\n",
        "c = 0    # variable compteur pour les pile\n",
        "d = 0    # variable compteur pour les face\n",
        "\n",
        "for n in range (100) :\n",
        "  resultat = choice(piece) \n",
        "  if resultat == \"pile\" :\n",
        "    c = c + 1\n",
        "  else :\n",
        "    d = d + 1\n",
        "\n",
        "print (c,\"fois pile\")\n",
        "print (d,\"fois face\")"
      ],
      "execution_count": 16,
      "outputs": [
        {
          "output_type": "stream",
          "name": "stdout",
          "text": [
            "58 fois pile\n",
            "42 fois face\n"
          ]
        }
      ]
    },
    {
      "cell_type": "markdown",
      "metadata": {
        "id": "q2h1vGJR8DtW"
      },
      "source": [
        "___\n",
        ">> - **Vous êtes très fort !!!**  terminez ce programme pour compter toutes les couleurs sur 100 tirages au sort."
      ]
    },
    {
      "cell_type": "code",
      "metadata": {
        "id": "coc1uiAh8eTW"
      },
      "source": [
        "from random import*\n",
        "\n",
        "liste = [\"rouge\",\"vert\",\"bleu\"]\n",
        "\n",
        "\n",
        "\n",
        "\n",
        "for n in range (100) : \n",
        "  couleur = choice(liste) \n",
        "\n",
        "\n",
        "\n",
        "\n",
        "\n",
        "\n"
      ],
      "execution_count": null,
      "outputs": []
    },
    {
      "cell_type": "markdown",
      "metadata": {
        "id": "YSiTozIu9iof"
      },
      "source": [
        "___\n",
        "___\n",
        "> **4. Maintenant on calcule les fréquences des résultats**\n",
        ">> - **Calculez** la fréquence d'apparition des *pile* sur 50 lancers (On n'affiche plus les résultats pour gagner de la place)\n",
        ">> - **Modifiez** ce programme pour calculer la fréquence de *face*\n",
        ">> - **Vous êtes très fort !!!**  créez de nouvelles variables pour afficher les deux fréquences des *pile* et des *face*"
      ]
    },
    {
      "cell_type": "code",
      "metadata": {
        "colab": {
          "base_uri": "https://localhost:8080/"
        },
        "id": "tPzq-PVp-BpV",
        "outputId": "f852a4fd-c49c-4b66-af83-51f17face8c6"
      },
      "source": [
        "from random import*\n",
        "piece = [\"pile\", \"face\"]\n",
        "c = 0    # On crée une variable compteur\n",
        "\n",
        "for n in range (50) :\n",
        "  resultat = choice(piece) \n",
        "  if resultat == \"pile\" :\n",
        "    c = c + 1\n",
        "\n",
        "print (c,\"fois pile\")\n",
        "\n",
        "f = c/50 # Cette variable est pour la fréquence\n",
        "print (\"frequence de pile =\",f)\n"
      ],
      "execution_count": 27,
      "outputs": [
        {
          "output_type": "stream",
          "name": "stdout",
          "text": [
            "22 fois pile\n",
            "frequence de pile = 0.44\n"
          ]
        }
      ]
    },
    {
      "cell_type": "markdown",
      "metadata": {
        "id": "qh2lj5kCAUiR"
      },
      "source": [
        "___\n",
        ">> - **Vous êtes très très fort !!!**  terminez ce programme pour calculer les fréquences de trois couleurs sur 1000 tirages au sort."
      ]
    },
    {
      "cell_type": "code",
      "metadata": {
        "id": "OA0vrXtPArHc"
      },
      "source": [
        "from random import*\n",
        "\n",
        "liste = [\"rouge\",\"vert\",\"bleu\"]\n",
        "\n",
        "\n",
        "\n",
        "\n",
        "for n in range (1000) : \n",
        "  couleur = choice(liste) \n",
        "\n",
        "\n",
        "\n",
        "\n",
        "\n",
        "\n"
      ],
      "execution_count": null,
      "outputs": []
    },
    {
      "cell_type": "markdown",
      "metadata": {
        "id": "Id8medWbTQoe"
      },
      "source": [
        "___\n",
        "___\n",
        "> **5. Variante : Compter les résultats avec des listes**\n",
        ">> - On crée une liste qui va contenir les résultats"
      ]
    },
    {
      "cell_type": "code",
      "metadata": {
        "colab": {
          "base_uri": "https://localhost:8080/"
        },
        "id": "R2wNM14GDMP6",
        "outputId": "f384995b-f335-47e1-b075-435049ac900d"
      },
      "source": [
        "from random import*\n",
        "\n",
        "piece = [\"pile\", \"face\"]\n",
        "liste = []                # liste vide\n",
        "\n",
        "for i in range (10) :\n",
        "  resultat = choice(piece) \n",
        "  liste.append(resultat)  # le resultat s'ajoute à la liste avec l'instruction .append()\n",
        "\n",
        "print(tirage)"
      ],
      "execution_count": null,
      "outputs": [
        {
          "output_type": "stream",
          "name": "stdout",
          "text": [
            "['pile', 'face', 'pile', 'face', 'face', 'pile', 'pile', 'face', 'face', 'pile']\n"
          ]
        }
      ]
    },
    {
      "cell_type": "markdown",
      "metadata": {
        "id": "kNI1uG7MJ63S"
      },
      "source": [
        "___\n",
        ">> **Compter les issues et de calculer leurs fréquences**"
      ]
    },
    {
      "cell_type": "code",
      "metadata": {
        "colab": {
          "base_uri": "https://localhost:8080/"
        },
        "id": "chInxf5nDvBg",
        "outputId": "5a41c245-b4dd-421e-e406-477436c0482d"
      },
      "source": [
        "from random import*\n",
        "\n",
        "piece = [\"pile\", \"face\"]\n",
        "liste = []               # liste vide\n",
        "\n",
        "for i in range (10) :\n",
        "  resultat = choice(piece) \n",
        "  liste.append(resultat)  \n",
        "\n",
        "n = liste.count(\"face\")\n",
        "f = n/10\n",
        "print (\"fréquence de face\",f)"
      ],
      "execution_count": null,
      "outputs": [
        {
          "output_type": "stream",
          "name": "stdout",
          "text": [
            "fréquence de face 0.4\n"
          ]
        }
      ]
    }
  ]
}