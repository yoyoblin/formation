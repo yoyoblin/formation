{
  "nbformat": 4,
  "nbformat_minor": 0,
  "metadata": {
    "colab": {
      "name": "base_python.ipynb",
      "provenance": [],
      "collapsed_sections": []
    },
    "kernelspec": {
      "display_name": "Python 3",
      "language": "python",
      "name": "python3"
    },
    "language_info": {
      "codemirror_mode": {
        "name": "ipython",
        "version": 3
      },
      "file_extension": ".py",
      "mimetype": "text/x-python",
      "name": "python",
      "nbconvert_exporter": "python",
      "pygments_lexer": "ipython3",
      "version": "3.7.1"
    },
    "latex_envs": {
      "LaTeX_envs_menu_present": true,
      "autoclose": false,
      "autocomplete": true,
      "bibliofile": "biblio.bib",
      "cite_by": "apalike",
      "current_citInitial": 1,
      "eqLabelWithNumbers": true,
      "eqNumInitial": 1,
      "hotkeys": {
        "equation": "Ctrl-E",
        "itemize": "Ctrl-I"
      },
      "labels_anchors": false,
      "latex_user_defs": false,
      "report_style_numbering": false,
      "user_envs_cfg": false
    }
  },
  "cells": [
    {
      "cell_type": "markdown",
      "metadata": {
        "id": "BcIYsRIuplPv"
      },
      "source": [
        "#**Des bases python pour démarrer**\n",
        "####   **Les activités suivantes illustrent les notions de variables, d'affectation et de liste**\n",
        "####   **Ces activités sont réalisables dans la console d'un IDE ou dans son éditeur**"
      ]
    },
    {
      "cell_type": "markdown",
      "metadata": {
        "id": "NR5mmY8eplP1"
      },
      "source": [
        "### **1. Comme une calculatrice**"
      ]
    },
    {
      "cell_type": "markdown",
      "metadata": {
        "id": "_5Oh2f_7plP3"
      },
      "source": [
        "- **On peut faire des calculs** avec python comme avec une calculatrice : on utilise la **console**\n",
        "- **Ce qui est écrit après #** n'est pas pris en compte, il s'agit de remarques.\n",
        "- **Les nombres entiers** sont appelés en anglais **integer**, en raccourci **int**.\n",
        "- **Les nombres à virgule**s sont appelés **flottants** ou **float** en anglais.\n",
        "- Il existe aussi des resultats logiques **True** et **False**"
      ]
    },
    {
      "cell_type": "code",
      "metadata": {
        "colab": {
          "base_uri": "https://localhost:8080/"
        },
        "id": "15Q83LTGplP5",
        "outputId": "5043b0bc-2e1b-4c4f-ba72-ce9386db0c70"
      },
      "source": [
        "# Calcul avec des nombres entiers\n",
        "32 * 10"
      ],
      "execution_count": null,
      "outputs": [
        {
          "output_type": "execute_result",
          "data": {
            "text/plain": [
              "320"
            ]
          },
          "metadata": {
            "tags": []
          },
          "execution_count": 1
        }
      ]
    },
    {
      "cell_type": "code",
      "metadata": {
        "id": "NOkU2rPGplQL",
        "scrolled": true,
        "colab": {
          "base_uri": "https://localhost:8080/"
        },
        "outputId": "5b39076f-576f-46ab-d549-aac81394b776"
      },
      "source": [
        "# Calcul avec des nombres flottants : les virgules sont des points...\n",
        "4.2 * 10"
      ],
      "execution_count": null,
      "outputs": [
        {
          "output_type": "execute_result",
          "data": {
            "text/plain": [
              "42.0"
            ]
          },
          "metadata": {
            "tags": []
          },
          "execution_count": 4
        }
      ]
    },
    {
      "cell_type": "code",
      "metadata": {
        "id": "QV50ZbPyplQU",
        "colab": {
          "base_uri": "https://localhost:8080/"
        },
        "outputId": "7c8c72ca-0dca-440c-f488-ff9c5a387d13"
      },
      "source": [
        "# L'écriture scientifique est aussi permise : c'est aussi un nombre flottant\n",
        "6.022e23"
      ],
      "execution_count": null,
      "outputs": [
        {
          "output_type": "execute_result",
          "data": {
            "text/plain": [
              "6.022e+23"
            ]
          },
          "metadata": {
            "tags": []
          },
          "execution_count": 5
        }
      ]
    },
    {
      "cell_type": "markdown",
      "metadata": {
        "id": "f2h5B8XXplQZ"
      },
      "source": [
        "- Les opérateurs sont les classiques addition, soustraction, multiplication, division, puissance et d´autres : quotient entier, reste de la division."
      ]
    },
    {
      "cell_type": "code",
      "metadata": {
        "id": "R5neSA2H6cl_",
        "scrolled": false,
        "colab": {
          "base_uri": "https://localhost:8080/"
        },
        "outputId": "ca00a0aa-3a87-4b88-8a6a-6fb316cf5055"
      },
      "source": [
        "# Les quatres opérations : respect des priorités et des parenthèses\n",
        "(3-2+5)*6/2"
      ],
      "execution_count": null,
      "outputs": [
        {
          "output_type": "execute_result",
          "data": {
            "text/plain": [
              "18.0"
            ]
          },
          "metadata": {
            "tags": []
          },
          "execution_count": 8
        }
      ]
    },
    {
      "cell_type": "code",
      "metadata": {
        "id": "1pZODh-BplQa",
        "colab": {
          "base_uri": "https://localhost:8080/"
        },
        "outputId": "a42704a8-62a5-44aa-ecca-f5d667239590"
      },
      "source": [
        "# Calculer un carré\n",
        "3**2"
      ],
      "execution_count": null,
      "outputs": [
        {
          "output_type": "execute_result",
          "data": {
            "text/plain": [
              "9"
            ]
          },
          "metadata": {
            "tags": []
          },
          "execution_count": 9
        }
      ]
    },
    {
      "cell_type": "code",
      "metadata": {
        "id": "wqFGHVMQplQg",
        "colab": {
          "base_uri": "https://localhost:8080/"
        },
        "outputId": "5b14f91f-895f-4448-e932-d42d6472e3f1"
      },
      "source": [
        "# Division avec quotient entier\n",
        "7 // 2"
      ],
      "execution_count": null,
      "outputs": [
        {
          "output_type": "execute_result",
          "data": {
            "text/plain": [
              "3"
            ]
          },
          "metadata": {
            "tags": []
          },
          "execution_count": 10
        }
      ]
    },
    {
      "cell_type": "code",
      "metadata": {
        "id": "voswnhHhplQl",
        "colab": {
          "base_uri": "https://localhost:8080/"
        },
        "outputId": "467ed69d-1a7b-4710-b618-dfc0486e05bc"
      },
      "source": [
        "# Calcul du reste de la division avec quotient entier\n",
        "# Un nombre est pair si le reste de la division par 2 est égal à zéro\n",
        "7 % 2"
      ],
      "execution_count": null,
      "outputs": [
        {
          "output_type": "execute_result",
          "data": {
            "text/plain": [
              "1"
            ]
          },
          "metadata": {
            "tags": []
          },
          "execution_count": 11
        }
      ]
    },
    {
      "cell_type": "markdown",
      "metadata": {
        "id": "RAnn7_NN6cmU"
      },
      "source": [
        "- On peut également effectuer des comparaisons avec les opérateurs == , <=, >, !=\n",
        "\n",
        "\n"
      ]
    },
    {
      "cell_type": "code",
      "metadata": {
        "id": "UA-65PH46cmV",
        "colab": {
          "base_uri": "https://localhost:8080/"
        },
        "outputId": "89208307-b650-4ce1-b070-22d1bb50bc48"
      },
      "source": [
        "# comparer deux resultats\n",
        "2+3/5 == (2+3)/5"
      ],
      "execution_count": null,
      "outputs": [
        {
          "output_type": "execute_result",
          "data": {
            "text/plain": [
              "False"
            ]
          },
          "metadata": {
            "tags": []
          },
          "execution_count": 12
        }
      ]
    },
    {
      "cell_type": "code",
      "metadata": {
        "id": "drBmzpWO6cmc",
        "colab": {
          "base_uri": "https://localhost:8080/"
        },
        "outputId": "2fdca6dc-1d47-497e-90b1-f3790500cb09"
      },
      "source": [
        "# Ces deux nombres sont ils différents ?\n",
        "-1**2 != (-1)**2"
      ],
      "execution_count": null,
      "outputs": [
        {
          "output_type": "execute_result",
          "data": {
            "text/plain": [
              "True"
            ]
          },
          "metadata": {
            "tags": []
          },
          "execution_count": 13
        }
      ]
    },
    {
      "cell_type": "code",
      "metadata": {
        "id": "iT23w6EP6cme",
        "colab": {
          "base_uri": "https://localhost:8080/"
        },
        "outputId": "08a28032-d64e-48e0-e936-dc7337a80270"
      },
      "source": [
        "# comparer des ordres de grandeur\n",
        "3 >= 2"
      ],
      "execution_count": null,
      "outputs": [
        {
          "output_type": "execute_result",
          "data": {
            "text/plain": [
              "True"
            ]
          },
          "metadata": {
            "tags": []
          },
          "execution_count": 14
        }
      ]
    },
    {
      "cell_type": "markdown",
      "metadata": {
        "id": "B5ITBSCGplQo"
      },
      "source": [
        "### **2. Une variable stocke une valeur en mémoire : c'est une affectation**"
      ]
    },
    {
      "cell_type": "markdown",
      "metadata": {
        "id": "WRAhp50eplQp"
      },
      "source": [
        "- **Une variable** peut contenir des chiffres, des lettres, des objets logiques...\n",
        "- **Affectation :** on utilise l’opérateur d’affectation « = » pour stocker dans la variable.\n",
        "- **La variable** s'écrit sans accent et sans espace par une lettre ou un ensemble de lettres.\n",
        "- **Affichage :** pour afficher la valeur d'une variable on utilise **print( )**."
      ]
    },
    {
      "cell_type": "code",
      "metadata": {
        "id": "43iJUQNoplQq",
        "colab": {
          "base_uri": "https://localhost:8080/"
        },
        "outputId": "a2e5a3d1-522a-4b7f-83d2-47b4240fd051"
      },
      "source": [
        "a = 2\n",
        "print(a)"
      ],
      "execution_count": null,
      "outputs": [
        {
          "output_type": "stream",
          "text": [
            "2\n"
          ],
          "name": "stdout"
        }
      ]
    },
    {
      "cell_type": "markdown",
      "metadata": {
        "id": "ausOrDrXplQt"
      },
      "source": [
        "- mais on peut aussi soigner la présentation..."
      ]
    },
    {
      "cell_type": "code",
      "metadata": {
        "id": "cjYsV06OplQu",
        "colab": {
          "base_uri": "https://localhost:8080/"
        },
        "outputId": "887fb3df-249a-4ea5-8d19-5240037b4fb4"
      },
      "source": [
        "# Il faut séparer la phrase entre guillemets de la variable par une virgule\n",
        "a = 2\n",
        "print(\"le nombre a =\",a)"
      ],
      "execution_count": null,
      "outputs": [
        {
          "output_type": "stream",
          "text": [
            "le nombre a = 2\n"
          ],
          "name": "stdout"
        }
      ]
    },
    {
      "cell_type": "code",
      "metadata": {
        "id": "ZErT-MPeplQy",
        "colab": {
          "base_uri": "https://localhost:8080/"
        },
        "outputId": "9ad167c5-4ccb-4217-b2e6-edc6569e9f47"
      },
      "source": [
        "# affectation de lettres (voir plus loin les chaînes de caractères)\n",
        "a = \"des chiffres\"\n",
        "b = \"et des lettres\"\n",
        "print(a,b)"
      ],
      "execution_count": null,
      "outputs": [
        {
          "output_type": "stream",
          "text": [
            "des chiffres et des lettres\n"
          ],
          "name": "stdout"
        }
      ]
    },
    {
      "cell_type": "markdown",
      "metadata": {
        "id": "sWxC6sTIplQ0"
      },
      "source": [
        "- On peut faire des opérations sur les variables."
      ]
    },
    {
      "cell_type": "code",
      "metadata": {
        "id": "XJiI1UYYplQ1",
        "colab": {
          "base_uri": "https://localhost:8080/"
        },
        "outputId": "e9c71858-0bfc-4ec5-8d72-0577579bcdc6"
      },
      "source": [
        "a = 30\n",
        "b = 12\n",
        "c = a + b\n",
        "print (c)\n",
        "d = a * b\n",
        "print (d)"
      ],
      "execution_count": null,
      "outputs": [
        {
          "output_type": "stream",
          "text": [
            "42\n",
            "360\n"
          ],
          "name": "stdout"
        }
      ]
    },
    {
      "cell_type": "markdown",
      "metadata": {
        "id": "TPwOtFEwplQ5"
      },
      "source": [
        "### **3. Chaînes de caractères : des chiffres et des lettres**"
      ]
    },
    {
      "cell_type": "markdown",
      "metadata": {
        "id": "NufC4WvZplQ5"
      },
      "source": [
        "- Les lettres sont appelées **\"chaînes de caractères\"**,en anglais **string** et en raccourci **str**.\n",
        "- On peut faire des opérations avec des chaînes de caractères : on appelle ça des **concaténations**.\n",
        "- Par exemple compter le nombre de caractères dans une chaîne avec **len( )**.\n",
        "- Ou compter le nombre d'occurences d'une lettre avec **.count( )**"
      ]
    },
    {
      "cell_type": "code",
      "metadata": {
        "id": "jYUArYgPplQ6",
        "colab": {
          "base_uri": "https://localhost:8080/"
        },
        "outputId": "8e5b1464-fb30-4e41-e4b3-6cd05c5e00ae"
      },
      "source": [
        "# Pour concaténer des chaines on les ajoute avec +\n",
        "a = \"coul\"\n",
        "b = \"euvre\"\n",
        "c = a + b\n",
        "print (c)\n",
        "c = c + \" verte\"\n",
        "print (c)"
      ],
      "execution_count": null,
      "outputs": [
        {
          "output_type": "stream",
          "text": [
            "couleuvre\n",
            "couleuvre verte\n"
          ],
          "name": "stdout"
        }
      ]
    },
    {
      "cell_type": "code",
      "metadata": {
        "id": "rNGGnB2eplQ8",
        "colab": {
          "base_uri": "https://localhost:8080/"
        },
        "outputId": "6eb10ebe-e384-4106-9582-a17c3856736c"
      },
      "source": [
        "a = \"HA!\"\n",
        "b = \"HO!\"\n",
        "lol = 5*(2*a + b)  # La concaténation combine les opérateurs +, * et ()\n",
        "print(lol)"
      ],
      "execution_count": null,
      "outputs": [
        {
          "output_type": "stream",
          "text": [
            "HA!HA!HO!HA!HA!HO!HA!HA!HO!HA!HA!HO!HA!HA!HO!\n"
          ],
          "name": "stdout"
        }
      ]
    },
    {
      "cell_type": "code",
      "metadata": {
        "id": "PRQYjbnBplQ-",
        "colab": {
          "base_uri": "https://localhost:8080/"
        },
        "outputId": "22d3cc86-d280-4755-fdc4-5b40c4af0ece"
      },
      "source": [
        "alphabet =\"abcdefghijklmnopqrstuvwxyz\"\n",
        "n = len(alphabet) # longueur de la chaîne de caractères\n",
        "print(n)"
      ],
      "execution_count": null,
      "outputs": [
        {
          "output_type": "stream",
          "text": [
            "26\n"
          ],
          "name": "stdout"
        }
      ]
    },
    {
      "cell_type": "code",
      "metadata": {
        "id": "C9dBA0cdplRB",
        "colab": {
          "base_uri": "https://localhost:8080/"
        },
        "outputId": "3fcc3e07-2bbf-42d8-c97e-4a83f6791bb2"
      },
      "source": [
        "mot =\"anticonstitutionnel\"\n",
        "n = mot.count(\"n\") # compter le nombre de lettres n\n",
        "print(n)"
      ],
      "execution_count": null,
      "outputs": [
        {
          "output_type": "stream",
          "text": [
            "4\n"
          ],
          "name": "stdout"
        }
      ]
    },
    {
      "cell_type": "markdown",
      "metadata": {
        "id": "l4JI8tWVplRE"
      },
      "source": [
        "### **4. Saisie utilisateur et conversion**"
      ]
    },
    {
      "cell_type": "markdown",
      "metadata": {
        "id": "zdiNy1q0plRG"
      },
      "source": [
        "- Le programme demande d'entrer un nombre avec **input( )** : c'est une saisie, une entrée.\n",
        "- Par défaut la variable à laquelle on affecte cette saisie est considérée comme une **chaîne de caractères.**\n",
        "- Les types d'objets courants sont str (chaîne), int(entier), float(virgule)\n",
        "- Les lignes vides n'ont pas d'importance, elles \"aèrent\" le code\n"
      ]
    },
    {
      "cell_type": "code",
      "metadata": {
        "id": "jf4jHIf8plRM",
        "scrolled": true
      },
      "source": [
        "# On peut utiliser des guillemets simples '' ou doubles \"\"\n",
        "prenom = input(\"entre ton prénom\")\n",
        "nom = input('entre ton nom')\n",
        "\n",
        "\n",
        "print (\"bonjour\",prenom,nom)"
      ],
      "execution_count": null,
      "outputs": []
    },
    {
      "cell_type": "code",
      "metadata": {
        "id": "NsSRySoEplRd"
      },
      "source": [
        "# type() permet de définir la catégorie de l'objet testé\n",
        "a = input (\"entre un nombre entier\")\n",
        "print(type(a))"
      ],
      "execution_count": null,
      "outputs": []
    },
    {
      "cell_type": "markdown",
      "metadata": {
        "id": "TM-Bgh1OplRj"
      },
      "source": [
        "- On ne peut pas faire des calculs avec des chaines de caractères donc on convertit en nombres avec **int( )** ou **float( )**\n"
      ]
    },
    {
      "cell_type": "code",
      "metadata": {
        "id": "vJZoYlmmplRj"
      },
      "source": [
        "# Conversion en int ou en float\n",
        "# Attention la virgule est le point .\n",
        "\n",
        "a = int(input (\"entre un nombre entier\"))\n",
        "b = float(input(\"entre un nombre à virgule\"))\n",
        "\n",
        "print(type(a))\n",
        "print(type(b))"
      ],
      "execution_count": null,
      "outputs": []
    },
    {
      "cell_type": "code",
      "metadata": {
        "id": "dG_A4KQdplRv"
      },
      "source": [
        "a = float(input (\"a =\"))\n",
        "b = float(input(\"b =\"))\n",
        "c = float(input(\"c =\"))\n",
        "print(\"delta =\",b**2 - 4*a*c)"
      ],
      "execution_count": null,
      "outputs": []
    },
    {
      "cell_type": "markdown",
      "metadata": {
        "id": "Zq8t_mJSplR9"
      },
      "source": [
        "### **5. Les listes**"
      ]
    },
    {
      "cell_type": "markdown",
      "metadata": {
        "id": "gMRF97sBplSD"
      },
      "source": [
        "- **Les listes** permettent de stocker plusieurs résultats dans un ordre donné entre crochets [ ]\n",
        "- On peut mélanger plusieurs types dans une liste : des nombres, des chaînes...\n",
        "- On peut **compter** le nombre d'éléments dans une liste avec len( ).\n",
        "- On peut **chercher** un élément par son index (numéro) avec liste [ ]\n",
        "- **Important :** Les index commencent à 0\n",
        "- **On ajoute un élément** dans une liste avec liste.append()"
      ]
    },
    {
      "cell_type": "code",
      "metadata": {
        "id": "NESGoh6XplSE"
      },
      "source": [
        "liste =[1,\"boa\",33,\"a\"]\n",
        "print(len(liste))"
      ],
      "execution_count": null,
      "outputs": []
    },
    {
      "cell_type": "code",
      "metadata": {
        "id": "RvxgPEXpplSQ"
      },
      "source": [
        "# l'élément d'index 2 est ici le troisième\n",
        "liste =[1,\"boa\",33,\"a\"]\n",
        "print(liste[2])"
      ],
      "execution_count": null,
      "outputs": []
    },
    {
      "cell_type": "code",
      "metadata": {
        "id": "XC-52V33plSe"
      },
      "source": [
        "# Pour ajouter le nombre 42 à la liste\n",
        "liste =[1,\"boa\",33,\"a\"]\n",
        "liste.append(42)\n",
        "print(liste)"
      ],
      "execution_count": null,
      "outputs": []
    },
    {
      "cell_type": "code",
      "metadata": {
        "id": "ucgE9abQplSw"
      },
      "source": [
        "# Pour compter le nombre d'occurences d'un élément dans une liste\n",
        "liste =[1,7,2,3,4,4,6,5,6,6,7,1,8,7]\n",
        "n = liste.count(7)\n",
        "print(n)"
      ],
      "execution_count": null,
      "outputs": []
    },
    {
      "cell_type": "code",
      "metadata": {
        "id": "ngqyEJgOplS4"
      },
      "source": [
        "# Pour trouver l'index d'un élément dans une liste (le premier s'il y en a plusieurs)\n",
        "liste =[1,9,3,5,4,4,5,6,7,6,8,10,11]\n",
        "n = liste.index(6)\n",
        "print(n)"
      ],
      "execution_count": null,
      "outputs": []
    }
  ]
}