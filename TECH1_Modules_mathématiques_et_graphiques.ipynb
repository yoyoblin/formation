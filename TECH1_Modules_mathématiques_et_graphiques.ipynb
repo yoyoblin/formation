{
  "nbformat": 4,
  "nbformat_minor": 0,
  "metadata": {
    "colab": {
      "name": "TECH1 Modules mathématiques et graphiques.ipynb",
      "provenance": [],
      "collapsed_sections": []
    },
    "kernelspec": {
      "name": "python3",
      "display_name": "Python 3"
    },
    "language_info": {
      "name": "python"
    }
  },
  "cells": [
    {
      "cell_type": "markdown",
      "metadata": {
        "id": "fpHSsnek2D6x"
      },
      "source": [
        "# **TECH1 Modules mathématiques et graphiques**"
      ]
    },
    {
      "cell_type": "markdown",
      "metadata": {
        "id": "j9uPR77iD8wH"
      },
      "source": [
        "- Ces **modules ou librairies** apportent des fonctionnalités supplémentaires. Ils  sont utilisés avec des listes, des tableaux et sont donc utilisables dans le référentiel à partir de la classe de première.\n",
        "- Le **numpy** apporte des fonctions mathématiques et des objets qui n'existent pas dans **math**.\n",
        "- La librairie **Matplotlib** permet l’affichage de courbes, de graphiques, d’histogrammes. On utilise généralement un de ses modules **pyplot**."
      ]
    },
    {
      "cell_type": "markdown",
      "metadata": {
        "id": "V1v2FNky4yCt"
      },
      "source": [
        "### **1. Module et mathématiques : numpy**\n",
        "\n",
        "\n",
        "---\n",
        "\n",
        "\n"
      ]
    },
    {
      "cell_type": "markdown",
      "metadata": {
        "id": "_HjRu_Tz7rXn"
      },
      "source": [
        "- Le module **numpy** comporte beaucoup de fonctions utiles, on l'importe complètement avec import * ou on peut l'importer par \"préfixe\" "
      ]
    },
    {
      "cell_type": "markdown",
      "metadata": {
        "id": "UL2h7Th8HTKd"
      },
      "source": [
        "- Ce module (souvent couplé avec **matplotlib.pyplot** ) permet de créer des graphiques... mais est ce plus interressant que les grapheurs ?\n",
        "\n"
      ]
    },
    {
      "cell_type": "markdown",
      "metadata": {
        "id": "zwmO3xgx8ARG"
      },
      "source": [
        "> - **Des outils pour les statistiques :** Les indicateurs de tendance centrale et paramètres de dispersion"
      ]
    },
    {
      "cell_type": "code",
      "metadata": {
        "colab": {
          "base_uri": "https://localhost:8080/"
        },
        "id": "C27b5clD49cg",
        "outputId": "42b1f187-a86d-4b28-953e-65e81aae7fc8"
      },
      "source": [
        "from numpy import *\n",
        "list = [10,2,3,1,5,3,5,6,10,2,5,7,9,5]\n",
        "\n",
        "a = min(list)\n",
        "b = max(list)\n",
        "c = ptp(list)  # peak to peak (amplitude)\n",
        "d = round(mean(list),2)# moyenne\n",
        "e = percentile(list,25) # premier quartile\n",
        "f = percentile(list,75) # troisième quartile\n",
        "g = median(list)\n",
        "h = std(list)  # standard deviation (écart type)\n",
        "\n",
        "print (a,b,c,d,e,f,g)"
      ],
      "execution_count": null,
      "outputs": [
        {
          "output_type": "stream",
          "text": [
            "1 10 9 5.21 3.0 6.75 5.0\n"
          ],
          "name": "stdout"
        }
      ]
    },
    {
      "cell_type": "markdown",
      "metadata": {
        "id": "OmZEfZzp8L8V"
      },
      "source": [
        ">> Variante pour les quartiles"
      ]
    },
    {
      "cell_type": "code",
      "metadata": {
        "colab": {
          "base_uri": "https://localhost:8080/"
        },
        "id": "8WqFQy0H6h9U",
        "outputId": "618d2dd0-77bc-4d33-e1f3-9d9365470ba6"
      },
      "source": [
        "from numpy import *\n",
        "list = [10,2,3,1,5,3,5,6,10,2,5,7,9,5]\n",
        "\n",
        "a = quantile(list,0.25) # premier quartile\n",
        "b = quantile(list,0.75) # troisième quartile\n",
        "\n",
        "print (a,b)"
      ],
      "execution_count": null,
      "outputs": [
        {
          "output_type": "stream",
          "text": [
            "3.0 6.75\n"
          ],
          "name": "stdout"
        }
      ]
    },
    {
      "cell_type": "markdown",
      "metadata": {
        "id": "CwHd9Vn4MIzc"
      },
      "source": [
        ">> **Remarque :** on peut très bien importer différemment le module numpy en accolant un \"préfixe\" aux instructions de sa librairie. Le programme précédent devient :"
      ]
    },
    {
      "cell_type": "code",
      "metadata": {
        "colab": {
          "base_uri": "https://localhost:8080/"
        },
        "id": "yy0NcGNcM9OA",
        "outputId": "907993ea-e645-446f-cce2-a7e0e8f86a11"
      },
      "source": [
        "import numpy as np\n",
        "list = [10,2,3,1,5,3,5,6,10,2,5,7,9,5]\n",
        "\n",
        "a = np.quantile(list,0.25) # premier quartile\n",
        "b = np.quantile(list,0.75) # troisième quartile\n",
        "\n",
        "print (a,b)"
      ],
      "execution_count": 1,
      "outputs": [
        {
          "output_type": "stream",
          "text": [
            "3.0 6.75\n"
          ],
          "name": "stdout"
        }
      ]
    },
    {
      "cell_type": "markdown",
      "metadata": {
        "id": "pY-6uU198VFV"
      },
      "source": [
        ">> **Exemple** de comparaison de deux séries de valeurs (les boîtes à moustaches viennent après)"
      ]
    },
    {
      "cell_type": "code",
      "metadata": {
        "colab": {
          "base_uri": "https://localhost:8080/"
        },
        "id": "T9ufJAm_5aSy",
        "outputId": "7b15340e-8a26-44b8-9708-c2e52fc4e0c0"
      },
      "source": [
        "from numpy import *\n",
        "\n",
        "list1 = [10,2,3,1,5,3,5,6,10,2,5,7,9,5]\n",
        "list2 = [6,2,5,1,4.5,3,5,6,9,7.5,5,3.5,5,4.5]\n",
        "\n",
        "liste = [list1,list2]\n",
        "\n",
        "for l in liste :\n",
        "    print (\"moyenne = \", mean(l))\n",
        "    print (\"médiane =\", median(l))\n",
        "    \n",
        "    print (\"amplitude =\",max(l)-min(l))\n",
        "    print (\"écart interquartile = \",percentile(l,75)-percentile(l,25))"
      ],
      "execution_count": null,
      "outputs": [
        {
          "output_type": "stream",
          "text": [
            "moyenne =  5.214285714285714\n",
            "médiane = 5.0\n",
            "amplitude = 9\n",
            "écart interquartile =  3.75\n",
            "moyenne =  4.785714285714286\n",
            "médiane = 5.0\n",
            "amplitude = 8\n",
            "écart interquartile =  2.0\n"
          ],
          "name": "stdout"
        }
      ]
    },
    {
      "cell_type": "markdown",
      "metadata": {
        "id": "uPivAt0iK6JA"
      },
      "source": [
        ">- **Des outils pour les fonctions :** Les listes **arange()** et **linspace()** de Numpy n'ont pas les limitations de **range()** et apportent un peu de complexité utile :"
      ]
    },
    {
      "cell_type": "code",
      "metadata": {
        "colab": {
          "base_uri": "https://localhost:8080/"
        },
        "id": "Su_MaHkVRcIO",
        "outputId": "d123b8ae-35c4-4e60-84e3-1e1f5d61ffaf"
      },
      "source": [
        "from numpy import *\n",
        "x = arange(0,5,0.5)  # des valeurs de 0 à 5 (exclu) avec un pas de 0,5\n",
        "\n",
        "print(x)"
      ],
      "execution_count": 8,
      "outputs": [
        {
          "output_type": "stream",
          "text": [
            "[0.  0.5 1.  1.5 2.  2.5 3.  3.5 4.  4.5]\n"
          ],
          "name": "stdout"
        }
      ]
    },
    {
      "cell_type": "code",
      "metadata": {
        "colab": {
          "base_uri": "https://localhost:8080/"
        },
        "id": "cYnNLnhWSrou",
        "outputId": "0cfbb021-2e1a-4c70-a95d-e2d9b60abcd8"
      },
      "source": [
        "from numpy import *\n",
        "x = linspace(0,5,9) # 9 valeurs de 0 à 5 réparties uniformément\n",
        "\n",
        "print(x)"
      ],
      "execution_count": 11,
      "outputs": [
        {
          "output_type": "stream",
          "text": [
            "[0.    0.625 1.25  1.875 2.5   3.125 3.75  4.375 5.   ]\n"
          ],
          "name": "stdout"
        }
      ]
    },
    {
      "cell_type": "markdown",
      "metadata": {
        "id": "kyp2nEUC2KaK"
      },
      "source": [
        "### **2. Module graphiques et mathématiques : matplotlib**\n",
        "\n",
        "\n",
        "---\n",
        "\n",
        "\n",
        "\n",
        "\n"
      ]
    },
    {
      "cell_type": "markdown",
      "metadata": {
        "id": "OiXcGQls3glL"
      },
      "source": [
        "- **Le module matplotlib.pyplot est importé avec le préfixe plt :**\n",
        "Ce module permet de tracer des graphiques de toute sorte"
      ]
    },
    {
      "cell_type": "markdown",
      "metadata": {
        "id": "dilnfjn3N6_5"
      },
      "source": [
        "> - **Des outils pour les statistiques :** "
      ]
    },
    {
      "cell_type": "markdown",
      "metadata": {
        "id": "vSgmqTRL4FdY"
      },
      "source": [
        ">> Afficher une boite à moustaches :"
      ]
    },
    {
      "cell_type": "code",
      "metadata": {
        "colab": {
          "base_uri": "https://localhost:8080/",
          "height": 269
        },
        "id": "2g6eQb9v3O3T",
        "outputId": "7b274f12-c0ff-456c-8df6-9ba54e305f27"
      },
      "source": [
        "import matplotlib.pyplot as plt\n",
        "\n",
        "liste = [10,2,3,1,5,3,5,6,10,2,5,7,9,5]\n",
        "\n",
        "plt.boxplot(liste) # La boîte à moustaches\n",
        "plt.grid()     # Le quadrillage\n",
        "plt.ylim(0,12) # limites de l'axe des ordonnées\n",
        "plt.show()     # affichage du graphique"
      ],
      "execution_count": 4,
      "outputs": [
        {
          "output_type": "display_data",
          "data": {
            "image/png": "[encoded data removed]",
            "text/plain": [
              "<Figure size 432x288 with 1 Axes>"
            ]
          },
          "metadata": {
            "tags": [],
            "needs_background": "light"
          }
        }
      ]
    },
    {
      "cell_type": "markdown",
      "metadata": {
        "id": "nx3R5gn18fKQ"
      },
      "source": [
        ">> Plusieurs boites à moustaches :"
      ]
    },
    {
      "cell_type": "code",
      "metadata": {
        "colab": {
          "base_uri": "https://localhost:8080/",
          "height": 269
        },
        "id": "YuF8Q9vQ2aaX",
        "outputId": "abf29e73-bde7-4041-acb3-3c99e4f9e429"
      },
      "source": [
        "import matplotlib.pyplot as plt\n",
        "\n",
        "liste1 = [10,2,3,1,4.5,3,5,6,10,2,3.5,7,9,5]\n",
        "liste2 = [1,6,5.5,4,5,3,5.5,7,8,5,5,7,4.5,5.5]\n",
        "\n",
        "listes = [liste1,liste2]\n",
        "\n",
        "plt.boxplot(listes)\n",
        "plt.grid()     \n",
        "plt.ylim(0,12) # limites de l'axe des ordonnées\n",
        "plt.show()"
      ],
      "execution_count": 2,
      "outputs": [
        {
          "output_type": "display_data",
          "data": {
            "image/png": "[encoded data removed]",
            "text/plain": [
              "<Figure size 432x288 with 1 Axes>"
            ]
          },
          "metadata": {
            "tags": [],
            "needs_background": "light"
          }
        }
      ]
    },
    {
      "cell_type": "code",
      "metadata": {
        "colab": {
          "base_uri": "https://localhost:8080/",
          "height": 269
        },
        "id": "HBqt4O9V4Kyc",
        "outputId": "0fb7bcfb-1334-4666-9a53-608a52b75fa4"
      },
      "source": [
        "import matplotlib.pyplot as plt\n",
        "\n",
        "liste1 = [10,2,3,1,4.5,3,5,6,10,2,3.5,7,9,5]\n",
        "liste2 = [1,6,5.5,4,5,3,5.5,7,8,5,5,7,4.5,5.5]\n",
        "liste3 = [1,4,5,4,5,3,5,4,8,5,5,7,4,6]\n",
        "\n",
        "listes = [liste1,liste2,liste3]\n",
        "\n",
        "plt.boxplot(listes)\n",
        "plt.grid()     \n",
        "plt.ylim(0,12) # limites de l'axe des ordonnées\n",
        "plt.show()"
      ],
      "execution_count": 3,
      "outputs": [
        {
          "output_type": "display_data",
          "data": {
            "image/png": "[encoded data removed]",
            "text/plain": [
              "<Figure size 432x288 with 1 Axes>"
            ]
          },
          "metadata": {
            "tags": [],
            "needs_background": "light"
          }
        }
      ]
    },
    {
      "cell_type": "markdown",
      "metadata": {
        "id": "X01RrZV_8nBF"
      },
      "source": [
        ">> Représenter des nuages de points :"
      ]
    },
    {
      "cell_type": "code",
      "metadata": {
        "colab": {
          "base_uri": "https://localhost:8080/",
          "height": 295
        },
        "id": "_f_chD5w6F-Z",
        "outputId": "f732ff12-5374-4b6d-ef4a-1c28c78149bc"
      },
      "source": [
        "import matplotlib.pyplot as plt\n",
        "\n",
        "x = [1,2,3,4,5]\n",
        "y = [4,1,3,6,8]\n",
        "\n",
        "plt.scatter(x, y, c = \"blue\")\n",
        "\n",
        "x = [1,2,3,4,5]\n",
        "y = [1,3,5,2,7]\n",
        "\n",
        "plt.scatter(x, y, c = \"red\")\n",
        "\n",
        "plt.title(\"Nuage de points\")\n",
        "plt.xlabel(\"série 1\")\n",
        "plt.ylabel(\"série 2\")\n",
        "plt.show()"
      ],
      "execution_count": null,
      "outputs": [
        {
          "output_type": "display_data",
          "data": {
            "image/png": "[encoded data removed]",
            "text/plain": [
              "<Figure size 432x288 with 1 Axes>"
            ]
          },
          "metadata": {
            "tags": [],
            "needs_background": "light"
          }
        }
      ]
    },
    {
      "cell_type": "markdown",
      "metadata": {
        "id": "HVVZEkHTOWcT"
      },
      "source": [
        "- **Des outils pour les représentations graphiques et courbes expérimentales :** "
      ]
    },
    {
      "cell_type": "markdown",
      "metadata": {
        "id": "zDpxgih9BxZP"
      },
      "source": [
        ">>Tracé de lignes brisées à partir de données entrées dans deux listes"
      ]
    },
    {
      "cell_type": "code",
      "metadata": {
        "colab": {
          "base_uri": "https://localhost:8080/",
          "height": 265
        },
        "id": "5eHlQ4X9BWhq",
        "outputId": "d738bae3-53de-4d2f-b48e-9bc713bd634b"
      },
      "source": [
        "import matplotlib.pyplot as plt\n",
        "\n",
        "x = [1,2,3,4,5]\n",
        "y = [4,1,3,6,8]\n",
        "\n",
        "plt.plot(x, y) # Trace la courbe à partir des listes précédentes\n",
        "plt.grid() # quadrillage\n",
        "plt.show()"
      ],
      "execution_count": null,
      "outputs": [
        {
          "output_type": "display_data",
          "data": {
            "image/png": "[encoded data removed]",
            "text/plain": [
              "<Figure size 432x288 with 1 Axes>"
            ]
          },
          "metadata": {
            "tags": [],
            "needs_background": "light"
          }
        }
      ]
    },
    {
      "cell_type": "markdown",
      "metadata": {
        "id": "BZa4r-MTDBhc"
      },
      "source": [
        ">>Tracé de courbes à partir de données expérimentales : cours de cinétique"
      ]
    },
    {
      "cell_type": "code",
      "metadata": {
        "colab": {
          "base_uri": "https://localhost:8080/",
          "height": 265
        },
        "id": "j9fV0dNWCZg6",
        "outputId": "8d2aa999-a946-41e4-be8c-732fa65846e3"
      },
      "source": [
        "import matplotlib.pyplot as plt\n",
        "\n",
        "t = [ 0, 0.2, 0.4, 0.6, 0.8, 1]\n",
        "x = [0.0644676, 0.0941647, 0.17212, 0.29957, 0.476515, 0.688108]\n",
        "y = [0.215706, 0.20952, 0.195908, 0.172398, 0.145176, 0.114241]\n",
        "\n",
        "plt.plot(t, x) # Trace la courbe des abscisses en fonction du temps\n",
        "plt.plot(t, y) # Trace la courbe des ordonnées en fonction du temps\n",
        "plt.grid() # quadrillage\n",
        "plt.show()\n"
      ],
      "execution_count": null,
      "outputs": [
        {
          "output_type": "display_data",
          "data": {
            "image/png": "[encoded data removed]",
            "text/plain": [
              "<Figure size 432x288 with 1 Axes>"
            ]
          },
          "metadata": {
            "tags": [],
            "needs_background": "light"
          }
        }
      ]
    },
    {
      "cell_type": "markdown",
      "metadata": {
        "id": "kvR7b9vz9vgJ"
      },
      "source": [
        "### **3. En utilisant les deux module graphiques et mathématiques**\n",
        "\n",
        "---\n",
        "\n"
      ]
    },
    {
      "cell_type": "markdown",
      "metadata": {
        "id": "VOOM5BVuPCqx"
      },
      "source": [
        "- **L’utilisation de Numpy permet de réduire le nombre de boucles :** lorsqu’une fonction mathématique est appliquée à une liste Numpy, elle va automatiquement agir sur chaque élément de la liste.\n",
        "- **Avec ces deux listes** le module graphique **pyplot** va permettre de tracer la représentation graphique de la fonction."
      ]
    },
    {
      "cell_type": "markdown",
      "metadata": {
        "id": "kjbdoMp59diI"
      },
      "source": [
        ">> Tracé de courbes : (petite parenthèse sur les fonctions)"
      ]
    },
    {
      "cell_type": "code",
      "metadata": {
        "colab": {
          "base_uri": "https://localhost:8080/",
          "height": 265
        },
        "id": "Jcn480Os-OWU",
        "outputId": "141f8718-8bea-4d09-a8dd-3644912275a6"
      },
      "source": [
        "import numpy as np                 # les modules sont importés par préfixes pour bien distinguer leurs fonctions\n",
        "import matplotlib.pyplot as plt\n",
        "\n",
        "x = np.linspace(0, 1) # Définit une liste de valeurs de 0 à 1 (tableau 1D Numpy)\n",
        "y = x ** 2 # Crée une liste d'images des nombres de la liste précédente\n",
        "\n",
        "plt.plot(x, y) # Trace la courbe à partir des listes précédentes\n",
        "plt.plot(y, x) # inversion des axes\n",
        "plt.grid() # quadrillage\n",
        "plt.show()"
      ],
      "execution_count": null,
      "outputs": [
        {
          "output_type": "display_data",
          "data": {
            "image/png": "[encoded data removed]",
            "text/plain": [
              "<Figure size 432x288 with 1 Axes>"
            ]
          },
          "metadata": {
            "tags": [],
            "needs_background": "light"
          }
        }
      ]
    },
    {
      "cell_type": "markdown",
      "metadata": {
        "id": "3WKwhhikQqeS"
      },
      "source": [
        ">> Instruction **arange()** pour définir le pas"
      ]
    },
    {
      "cell_type": "code",
      "metadata": {
        "colab": {
          "base_uri": "https://localhost:8080/",
          "height": 279
        },
        "id": "qHFOf-5c-oNz",
        "outputId": "6b92cfba-159f-44dc-c8c4-0bc3ab763712"
      },
      "source": [
        "import numpy as np\n",
        "import matplotlib.pyplot as plt\n",
        "\n",
        "x = np.arange(-5,5,0.1)  # Définit une liste de valeurs de 5 à 5 avec un pas de 0,1\n",
        "y = x**2  # y n'est ici pas une simple valeur mais une liste (un tableau numpy)\n",
        "plt.plot(x,y) # Trace la courbe \n",
        "\n",
        "plt.ylabel(\"axe des ordonnées\")\n",
        "plt.xlabel(\"axe des abcisses\")\n",
        "plt.grid()\n",
        "plt.show()"
      ],
      "execution_count": null,
      "outputs": [
        {
          "output_type": "display_data",
          "data": {
            "image/png": "[encoded data removed]",
            "text/plain": [
              "<Figure size 432x288 with 1 Axes>"
            ]
          },
          "metadata": {
            "tags": [],
            "needs_background": "light"
          }
        }
      ]
    },
    {
      "cell_type": "markdown",
      "metadata": {
        "id": "M13fp4vkQ0Ry"
      },
      "source": [
        ">> Instruction **linspace()** pour définir le nombre de points"
      ]
    },
    {
      "cell_type": "code",
      "metadata": {
        "colab": {
          "base_uri": "https://localhost:8080/",
          "height": 279
        },
        "id": "mN7Q9l3J_lND",
        "outputId": "c0efc1fa-8860-477f-b976-fb6afce393bc"
      },
      "source": [
        "import numpy as np\n",
        "import matplotlib.pyplot as plt\n",
        "\n",
        "x = np.linspace(-5,5,10)  # Définit une liste de 10 valeurs entre -5 et 5\n",
        "plt.plot(x,x**2)          # Trace la courbe (méthode un peu plus courte sans liste y)\n",
        "\n",
        "plt.ylabel(\"axe des ordonnées\")\n",
        "plt.xlabel(\"axe des abcisses\")\n",
        "plt.grid()\n",
        "plt.show()"
      ],
      "execution_count": null,
      "outputs": [
        {
          "output_type": "display_data",
          "data": {
            "image/png": "[encoded data removed]",
            "text/plain": [
              "<Figure size 432x288 with 1 Axes>"
            ]
          },
          "metadata": {
            "tags": [],
            "needs_background": "light"
          }
        }
      ]
    }
  ]
}