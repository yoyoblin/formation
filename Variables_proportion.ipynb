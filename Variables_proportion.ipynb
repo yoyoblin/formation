{
  "nbformat": 4,
  "nbformat_minor": 0,
  "metadata": {
    "kernelspec": {
      "display_name": "Python 3",
      "language": "python",
      "name": "python3"
    },
    "language_info": {
      "codemirror_mode": {
        "name": "ipython",
        "version": 3
      },
      "file_extension": ".py",
      "mimetype": "text/x-python",
      "name": "python",
      "nbconvert_exporter": "python",
      "pygments_lexer": "ipython3",
      "version": "3.7.1"
    },
    "latex_envs": {
      "LaTeX_envs_menu_present": true,
      "autoclose": false,
      "autocomplete": true,
      "bibliofile": "biblio.bib",
      "cite_by": "apalike",
      "current_citInitial": 1,
      "eqLabelWithNumbers": true,
      "eqNumInitial": 1,
      "hotkeys": {
        "equation": "Ctrl-E",
        "itemize": "Ctrl-I"
      },
      "labels_anchors": false,
      "latex_user_defs": false,
      "report_style_numbering": false,
      "user_envs_cfg": false
    },
    "colab": {
      "name": "Variables_proportion.ipynb",
      "provenance": [],
      "collapsed_sections": []
    }
  },
  "cells": [
    {
      "cell_type": "markdown",
      "metadata": {
        "id": "EX2wBqObUAfB"
      },
      "source": [
        "# fiche proportionalité"
      ]
    },
    {
      "cell_type": "markdown",
      "metadata": {
        "id": "Vk0UiePkUAfE"
      },
      "source": [
        "## Pour découvrir :"
      ]
    },
    {
      "cell_type": "markdown",
      "metadata": {
        "id": "XHZZb18vUAfJ"
      },
      "source": [
        "- Les variables\n",
        "- les nombres float et int\n",
        "- Les affectations\n",
        "- Les instruction de saisie et d'affichage"
      ]
    },
    {
      "cell_type": "markdown",
      "metadata": {
        "id": "wVNjy1eJUAfN"
      },
      "source": [
        "### Problème 1 :"
      ]
    },
    {
      "cell_type": "markdown",
      "metadata": {
        "id": "2JGQM96AUAfR"
      },
      "source": [
        "Concevoir un programme pour calculer automatiquement par proportionnalité les quantités à utiliser pour une recette. L’utilisateur devra entrer le nombre de personnes, et les quantités d’ingrédients seront calculées et affichées automatiquement."
      ]
    },
    {
      "cell_type": "markdown",
      "metadata": {
        "id": "aE17e0euUAfT"
      },
      "source": [
        "- Variables proposées : « p » nombre entier de personnes; « f » nombre flottant pour la masse de farine; « s » nombre flottant pour la quantité de sel; « e » nombre flottant pour le volume d’eau; « o » nombre d’œufs.\n",
        "- Les quantités seront arrondies à l’unité pour toutes les valeurs calculées."
      ]
    },
    {
      "cell_type": "code",
      "metadata": {
        "scrolled": true,
        "id": "4t2A8T4qUAfU"
      },
      "source": [
        "p = int(input(\"entrez le nombre de personnes \"))\n",
        "\n",
        "f = 330\n",
        "s = 10\n",
        "e = 75\n",
        "o = 1\n",
        "\n",
        "f = round(330*p/5)\n",
        "s = round(10*p/5)\n",
        "e = round(e*p/5)\n",
        "o = round(1*p/5)\n",
        "\n",
        "print(f\"pour {p} personnes, il faut :\")\n",
        "print (f,\"grammes de farine\" )\n",
        "print(s,\"grammes de sel\")\n",
        "print(e,\"cl d'eAu\")\n",
        "print(o,\"oeufs\")"
      ],
      "execution_count": null,
      "outputs": []
    },
    {
      "cell_type": "markdown",
      "metadata": {
        "id": "9_FF8So5UAfd"
      },
      "source": [
        "### Problème 2 :"
      ]
    },
    {
      "cell_type": "markdown",
      "metadata": {
        "id": "_CNSJDR7UAff"
      },
      "source": [
        "Un commerçant veut calculer les prix soldés sur certains articles de son magasin. Vous devez réaliser un programme pour l’aider.\n",
        "\n",
        "Ce programme doit demander le prix de l’article non soldé, et le montant de la réduction. Il faudra afficher le prix réduit ainsi que le montant de la TVA."
      ]
    },
    {
      "cell_type": "markdown",
      "metadata": {
        "id": "zIhsUbFSUAfh"
      },
      "source": [
        "- Variables proposées : « p » nombre flottant correspondant au prix ; « r » nombre flottant pour la réduction; « tva » nombre flottant pour tva.\n",
        "\n",
        "- Les prix seront arrondis à deux chiffres après la vrigule pour toutes les valeurs calculées. La TVA est de 20%"
      ]
    },
    {
      "cell_type": "code",
      "metadata": {
        "scrolled": false,
        "id": "VV1REIJJUAfj",
        "outputId": "021edea0-ee87-42ab-f7b1-b538ce35d0d3"
      },
      "source": [
        "p = float(input(\"saisissez le prix de l'article \"))\n",
        "r = float(input(\"saisissez la valeur de la réduction \"))\n",
        "\n",
        "# calcul du prix reduit et de la tva\n",
        "\n",
        "p = round(p-p*r/100,2)\n",
        "tva = round(p/1.2*0.2,2)\n",
        "\n",
        "print(f\"Le prix après réduction est de {p} €\")\n",
        "print(f\"dont {tva}€ de TVA\")"
      ],
      "execution_count": null,
      "outputs": [
        {
          "output_type": "stream",
          "text": [
            "saisissez le prix de l'article 120\n",
            "saisissez la valeur de la réduction 20\n",
            "Le prix après réduction est de 96.0 €\n",
            "dont 16.0€ de TVA\n"
          ],
          "name": "stdout"
        }
      ]
    },
    {
      "cell_type": "markdown",
      "metadata": {
        "id": "oA4dh2snUAfq"
      },
      "source": [
        "### Problème 2 : variante"
      ]
    },
    {
      "cell_type": "markdown",
      "metadata": {
        "id": "zEUavr_eUAfs"
      },
      "source": [
        "Un commerçant veut calculer les prix soldés sur certains articles de son magasin. Vous devez réaliser un programme pour l’aider.\n",
        "\n",
        "Ce programme doit demander le prix de l’article non soldé.\n",
        "Le montant de la réduction sera conditionné au prix de l'article : 20% si inférieur à 100 € et 30% si supérieur ou égal.\n",
        "\n",
        "Il faudra afficher le prix réduit et le montant de la réduction; ainsi que le montant de la TVA."
      ]
    },
    {
      "cell_type": "markdown",
      "metadata": {
        "id": "6ip55js_UAfv"
      },
      "source": [
        "- Variables proposées : « p » nombre flottant correspondant au prix ; « r » nombre flottant pour la réduction; « tva » nombre flottant pour tva.\n",
        "- Les prix seront arrondis à deux chiffres après la vrigule pour toutes les valeurs calculées. La TVA est de 20%"
      ]
    },
    {
      "cell_type": "code",
      "metadata": {
        "scrolled": false,
        "id": "6WTArm46UAfx"
      },
      "source": [
        "p = float(input(\"saisissez le prix de l'article \"))\n",
        "\n",
        "# calcul du prix reduit et de la tva\n",
        "\n",
        "if p < 100 :\n",
        "    r = 20\n",
        "else :\n",
        "    r = 30\n",
        "\n",
        "p = round(p-p*r/100,2)\n",
        "tva = round(p/1.2*0.2,2)\n",
        "\n",
        "print (f\"votre réduction est de {r}%\")\n",
        "print(f\"Le prix après réduction est de {p} €\")\n",
        "print(f\"dont {tva}€ de TVA\")"
      ],
      "execution_count": null,
      "outputs": []
    },
    {
      "cell_type": "code",
      "metadata": {
        "id": "tLmOiSlSUAf3"
      },
      "source": [
        ""
      ],
      "execution_count": null,
      "outputs": []
    }
  ]
}